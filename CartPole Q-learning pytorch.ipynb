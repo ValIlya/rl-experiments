{
 "cells": [
  {
   "cell_type": "markdown",
   "metadata": {},
   "source": [
    "# Simple Q-Network on Cartpole-v0 problem with Pytorch"
   ]
  },
  {
   "cell_type": "markdown",
   "metadata": {},
   "source": [
    "Thanks to:  \n",
    "[DQN over screenshots of Cartpole](http://pytorch.org/tutorials/intermediate/reinforcement_q_learning.html)  \n",
    "[tuzzer on Medium](https://medium.com/@tuzzer/follow-up-cart-pole-balancing-with-q-network-976d13f88d2f)  \n",
    "[original post of CNTK](https://github.com/Microsoft/CNTK/blob/master/Tutorials/CNTK_203_Reinforcement_Learning_Basics.ipynb)  "
   ]
  },
  {
   "cell_type": "markdown",
   "metadata": {},
   "source": [
    "Some basic pieces of advice:  \n",
    "* Don't forget to exclude next step Q-value of terminal state  \n",
    "* Unbalanced average Q-values - increase learning_rate so they converge \n",
    "* Q-values are way bigger their stable values - increase discount factor  \n",
    "* Loss is constantly increasing  \n",
    "    * with Q-values? see advice above  \n",
    "    * decrease learning rate  \n",
    "* Average reward per game decreases slowly - make more experience replays!  \n",
    "* Reward per game drops steeply - no sudden moves! clip your gradients  "
   ]
  },
  {
   "cell_type": "markdown",
   "metadata": {},
   "source": [
    "## Initializing"
   ]
  },
  {
   "cell_type": "code",
   "execution_count": 1,
   "metadata": {
    "collapsed": true
   },
   "outputs": [],
   "source": [
    "%matplotlib inline\n",
    "\n",
    "import gym\n",
    "import itertools\n",
    "import numpy as np\n",
    "import sys\n",
    "import matplotlib.pyplot as plt\n",
    "import random\n",
    "import math\n",
    "from time import perf_counter\n",
    "import os\n",
    "from collections import deque\n",
    "\n",
    "import torch\n",
    "from torch import nn, optim\n",
    "from torch.autograd import Variable"
   ]
  },
  {
   "cell_type": "code",
   "execution_count": 2,
   "metadata": {
    "collapsed": true
   },
   "outputs": [],
   "source": [
    "env = gym.make('CartPole-v0')\n",
    "env.seed(0)\n",
    "\n",
    "STATE_DIM  = env.observation_space.shape[0]\n",
    "NUM_ACTIONS = env.action_space.n"
   ]
  },
  {
   "cell_type": "code",
   "execution_count": 3,
   "metadata": {},
   "outputs": [
    {
     "name": "stdout",
     "output_type": "stream",
     "text": [
      "[0]\n",
      "[0, 1]\n",
      "[0, 2, 1]\n",
      "[1, 3, 2]\n",
      "[2, 4, 3]\n",
      "[5, 3, 4]\n"
     ]
    },
    {
     "data": {
      "text/plain": [
       "[Transition(prev_state=array([ 1.76405235,  0.40015721,  0.97873798,  2.2408932 ]), prev_action=0, state=array([-0.10321885,  0.4105985 ,  0.14404357,  1.45427351]), reward=0, done=0),\n",
       " Transition(prev_state=array([ 1.86755799, -0.97727788,  0.95008842, -0.15135721]), prev_action=1, state=array([ 0.76103773,  0.12167502,  0.44386323,  0.33367433]), reward=1, done=1)]"
      ]
     },
     "execution_count": 3,
     "metadata": {},
     "output_type": "execute_result"
    }
   ],
   "source": [
    "from collections import namedtuple\n",
    "\n",
    "Transition = namedtuple('Transition',\n",
    "                        ('prev_state', 'prev_action', 'state', 'reward', 'done'))\n",
    "\n",
    "class ReplayMemory:\n",
    "    \n",
    "    def __init__(self, capacity):\n",
    "        self.examplers = deque(maxlen=capacity)\n",
    "        self.capacity = capacity\n",
    "        self.rs = random.SystemRandom(0)\n",
    "\n",
    "    def add(self, sample):\n",
    "        self.examplers.append(sample)\n",
    "\n",
    "    def get_random_samples(self, num_samples):\n",
    "        num_samples = min(num_samples, len(self.examplers))\n",
    "        return self.rs.sample(tuple(self.examplers), num_samples)\n",
    "\n",
    "mem = ReplayMemory(3)\n",
    "for i in range(6):\n",
    "    mem.add(i)\n",
    "    print(mem.get_random_samples(3))\n",
    "    \n",
    "\n",
    "np.random.seed(0)\n",
    "trans = [Transition(*x) for x in zip(np.random.normal(0,1,size=(2,STATE_DIM)), \n",
    "        np.arange(2), \n",
    "        np.random.normal(0,1,size=(2,STATE_DIM)), \n",
    "        np.arange(2), \n",
    "        np.arange(2))]\n",
    "trans"
   ]
  },
  {
   "cell_type": "code",
   "execution_count": 4,
   "metadata": {
    "scrolled": true
   },
   "outputs": [
    {
     "name": "stdout",
     "output_type": "stream",
     "text": [
      "[ 0.25155476 -0.31935942]\n"
     ]
    },
    {
     "data": {
      "text/plain": [
       "0.59749997"
      ]
     },
     "execution_count": 4,
     "metadata": {},
     "output_type": "execute_result"
    }
   ],
   "source": [
    "def grad_clipping(parameters, clip=10):\n",
    "    for p in parameters:\n",
    "        g = (p.grad.data ** 2).mean()\n",
    "        if g > clip:\n",
    "            p.grad.data *= clip / g\n",
    "            \n",
    "            \n",
    "class Brain:\n",
    "\n",
    "    BATCH_SIZE = 100\n",
    "    DISCOUNT_FACTOR = 0.9\n",
    "    \n",
    "    LEARNING_RATE = 5e-5\n",
    "    CLIP = 1e-1\n",
    "    \n",
    "    def __init__(self):\n",
    "        #### Construct the model ####\n",
    "        torch.manual_seed(0)\n",
    "        sizes = [STATE_DIM]+ [128]\n",
    "        layers = []\n",
    "        for i, (prev_size, size) in enumerate(zip(sizes[:-1], sizes[1:])):\n",
    "            layers.append(nn.Linear(prev_size, size))\n",
    "            layers.append(nn.ReLU())\n",
    "        \n",
    "        final_l = nn.Linear(size, NUM_ACTIONS)\n",
    "        layers.append(final_l)\n",
    "        self.model = nn.Sequential(*layers)\n",
    "\n",
    "        #### Define optimizer ####\n",
    "        self.optimizer = optim.Adam(self.model.parameters(), \n",
    "                                    lr=self.LEARNING_RATE, \n",
    "                                    betas=(0.9, 0.999))\n",
    "\n",
    "    def train(self, prev_states, prev_actions, states, rewards, dones):\n",
    "        q_action = self._predict_torch(np.array(prev_states))\n",
    "        next_best_q = self._predict_torch(np.array(states)).max(1)[0].data\n",
    "        rewards_t = torch.FloatTensor(np.array(rewards))\n",
    "        dones_t = torch.FloatTensor(np.array(dones).astype(float))\n",
    "        delta = rewards_t + (1-dones_t) * self.DISCOUNT_FACTOR * next_best_q\n",
    "        self.model.train()\n",
    "        # selected_q_actions = q_action[:,torch.LongTensor(np.array(prev_actions).astype(int))]\n",
    "        selected_q_actions = q_action.gather(1,Variable(torch.LongTensor(\n",
    "                                                np.array(prev_actions).astype(int)\n",
    "                                                )).view(-1,1))\n",
    "        loss =  ((selected_q_actions - Variable(delta.view(-1,1), requires_grad = False)) ** 2).mean()\n",
    "        # loss = nn.modules.loss.SmoothL1Loss()\\\n",
    "        #    (selected_q_actions, Variable(delta.view(-1,1), requires_grad = False))\n",
    "        self.model.zero_grad()\n",
    "        loss.backward()\n",
    "        grad_clipping(self.model.parameters(), clip=self.CLIP)\n",
    "        self.optimizer.step()\n",
    "        return loss.data.numpy()[0] #, q_action.mean(0).data.numpy()\n",
    "\n",
    "    def _predict_torch(self, states):\n",
    "        self.model.eval()\n",
    "        state_var = Variable(torch.Tensor(states))\n",
    "        preds = self.model(state_var)\n",
    "        return preds\n",
    "\n",
    "    def predict(self, state):\n",
    "        preds = self._predict_torch(state.reshape(1,-1))\n",
    "        return preds.data.numpy()[0]\n",
    "\n",
    "    \n",
    "np.random.seed(0)\n",
    "b = Brain()\n",
    "state = np.random.normal(0,1,size=STATE_DIM)\n",
    "print(b.predict(state))\n",
    "b.train(*zip(*trans))"
   ]
  },
  {
   "cell_type": "code",
   "execution_count": 5,
   "metadata": {},
   "outputs": [
    {
     "data": {
      "text/plain": [
       "{'actions': [1],\n",
       " 'loss': [0.10584649, 0.10584649, 0.10459135, 0.10459135],\n",
       " 'q_vals': [array([-0.08536449, -0.19556978], dtype=float32)],\n",
       " 'reward': []}"
      ]
     },
     "execution_count": 5,
     "metadata": {},
     "output_type": "execute_result"
    }
   ],
   "source": [
    "class Agent:\n",
    "\n",
    "    MEMORY_CAPACITY = 100000\n",
    "    MAX_EXPLORATION_RATE = 1.0\n",
    "    MIN_EXPLORATION_RATE = 0.05\n",
    "    DECAY_RATE = 0.0001\n",
    "    REPLAY_EACH_STEP = 2\n",
    "\n",
    "    def __init__(self):\n",
    "        self.explore_rate = self.MAX_EXPLORATION_RATE\n",
    "        self.hist = {k:[] for k in ['actions', 'reward', 'loss', 'q_vals']}\n",
    "        self.brain = Brain()\n",
    "        self.memory = ReplayMemory(self.MEMORY_CAPACITY)\n",
    "        self.steps = 0\n",
    "        self.rs = random.SystemRandom(0)\n",
    "\n",
    "    def act(self, s):\n",
    "        pred_q = self.brain.predict(s)\n",
    "        self.hist['q_vals'].append(pred_q)\n",
    "        if self.rs.random() < self.explore_rate:\n",
    "            act =  self.rs.randint(0, NUM_ACTIONS - 1)\n",
    "        else:\n",
    "            act = np.argmax(pred_q)\n",
    "        self.hist['actions'].append(act)\n",
    "        return act\n",
    "\n",
    "    def observe(self, sample):\n",
    "        self.steps += 1\n",
    "        self.memory.add(sample)\n",
    "        # Reduces exploration rate linearly\n",
    "        self.explore_rate = self.MIN_EXPLORATION_RATE + \\\n",
    "                (self.MAX_EXPLORATION_RATE - self.MIN_EXPLORATION_RATE) * \\\n",
    "                    math.exp(-self.DECAY_RATE * self.steps)\n",
    "\n",
    "    def _replay(self):\n",
    "        batch = self.memory.get_random_samples(self.brain.BATCH_SIZE)\n",
    "        prev_states, prev_actions, states, rewards, dones = zip(*batch)\n",
    "        loss = self.brain.train(prev_states, prev_actions, states, rewards, dones)\n",
    "        self.hist['loss'].append(loss)\n",
    "        return loss\n",
    "    \n",
    "    def replay(self):\n",
    "        for i in range(self.REPLAY_EACH_STEP):\n",
    "            loss = self._replay()\n",
    "            self.hist['loss'].append(loss)\n",
    "        return loss\n",
    "    \n",
    "    \n",
    "a = Agent()\n",
    "\n",
    "a.observe(trans[0])\n",
    "a.replay()\n",
    "a.act(trans[0].state)\n",
    "a.hist"
   ]
  },
  {
   "cell_type": "code",
   "execution_count": 6,
   "metadata": {},
   "outputs": [
    {
     "data": {
      "text/plain": [
       "[array([ 0.00035731, -0.06772216], dtype=float32),\n",
       " array([ 0.0235    , -0.00591575], dtype=float32),\n",
       " array([ 0.0019551 , -0.06129389], dtype=float32),\n",
       " array([ 0.02950168,  0.00023249], dtype=float32),\n",
       " array([ 0.00833715, -0.05467951], dtype=float32)]"
      ]
     },
     "execution_count": 6,
     "metadata": {},
     "output_type": "execute_result"
    }
   ],
   "source": [
    "from itertools import count\n",
    "\n",
    "def run_simulation(agent, solved_reward_level):\n",
    "    state = env.reset()\n",
    "    total_rewards = 0\n",
    "    for step in count():\n",
    "        # env.render()\n",
    "        action = agent.act(state.astype(np.float32))\n",
    "        \n",
    "        next_state, reward, done, info = env.step(action)\n",
    "        \n",
    "        agent.observe(Transition(state, action, next_state, reward, done))\n",
    "        for _ in range(2):\n",
    "            agent.replay()\n",
    "\n",
    "        state = next_state\n",
    "        total_rewards += reward\n",
    "\n",
    "        if total_rewards > solved_reward_level or done:\n",
    "            agent.hist['reward'].append(total_rewards)\n",
    "            return total_rewards, step\n",
    "\n",
    "a = Agent()\n",
    "run_simulation(a, 200)\n",
    "a.hist['q_vals'][:5]"
   ]
  },
  {
   "cell_type": "markdown",
   "metadata": {},
   "source": [
    "## Training"
   ]
  },
  {
   "cell_type": "code",
   "execution_count": 7,
   "metadata": {
    "scrolled": false
   },
   "outputs": [
    {
     "name": "stdout",
     "output_type": "stream",
     "text": [
      "(5s) Ep: 50, reward = 18.8600, loss = 3.4615, expl_r = 0.9145, right share = 0.4994, q aver = 3.13 - 3.24\n",
      "(11s) Ep: 100, reward = 18.0200, loss = 3.1985, expl_r = 0.8400, right share = 0.5969, q aver = 8.03 - 9.04\n",
      "(21s) Ep: 150, reward = 27.6200, loss = 1.5318, expl_r = 0.7381, right share = 0.4718, q aver = 7.72 - 7.72\n",
      "(32s) Ep: 200, reward = 33.0600, loss = 1.4685, expl_r = 0.6333, right share = 0.4953, q aver = 8.83 - 8.83\n",
      "(51s) Ep: 250, reward = 56.5000, loss = 1.1653, expl_r = 0.4897, right share = 0.5038, q aver = 9.63 - 9.63\n",
      "(109s) Ep: 300, reward = 160.7400, loss = 0.5142, expl_r = 0.2469, right share = 0.4991, q aver = 10.25 - 10.26\n",
      "(187s) Ep: 350, reward = 200.0000, loss = 0.4322, expl_r = 0.1224, right share = 0.4981, q aver = 10.51 - 10.50\n",
      "(269s) Ep: 400, reward = 200.0000, loss = 0.4017, expl_r = 0.0766, right share = 0.5043, q aver = 10.42 - 10.42\n",
      "Task solved in 410 episodes and repeated 121 times.\n"
     ]
    }
   ],
   "source": [
    "MAX_NUM_EPISODES = 1000\n",
    "STREAK_TO_END = 120\n",
    "DONE_REWARD_LEVEL = 196\n",
    "\n",
    "np.random.seed(0)\n",
    "\n",
    "agent = Agent()\n",
    "env = gym.make('CartPole-v0')\n",
    "env.seed(0)\n",
    "\n",
    "PRINT_PROGRESS_EACH_SIMULATIONS = 50\n",
    "\n",
    "episode_number = 0\n",
    "reward_sum = 0\n",
    "step_cnt = 0\n",
    "num_streaks = 0\n",
    "solved_episode = -1\n",
    "\n",
    "training_start_time = perf_counter()\n",
    "while episode_number < MAX_NUM_EPISODES:\n",
    "\n",
    "    # Run the simulation and train the agent\n",
    "    reward, step = run_simulation(agent, DONE_REWARD_LEVEL*2)\n",
    "    reward_sum += reward\n",
    "    step_cnt += step\n",
    "    episode_number += 1\n",
    "    if episode_number % PRINT_PROGRESS_EACH_SIMULATIONS == 0:\n",
    "        t = perf_counter() - training_start_time\n",
    "        print((\"(%ds) Ep: %d, \" +\n",
    "               \"reward = %0.4f, \" + \n",
    "               \"loss = %0.4f, \" + \n",
    "               \"expl_r = %0.4f, \" + \n",
    "               \"right share = %0.4f, \" + \n",
    "               \"q aver = %s\") % \\\n",
    "                  (t, episode_number, \n",
    "                   reward_sum / PRINT_PROGRESS_EACH_SIMULATIONS, \n",
    "                   sum(agent.hist['loss'][-step_cnt:]) / step_cnt,\n",
    "                   agent.explore_rate, \n",
    "                   sum(agent.hist['actions'][-step_cnt:]) / step_cnt,\n",
    "                   \"%0.2f - %0.2f\" % tuple(sum(agent.hist['q_vals'][-step_cnt:]) / step_cnt)\n",
    "                  ))\n",
    "        reward_sum = 0\n",
    "        step_cnt = 0\n",
    "\n",
    "    # It is considered solved when the sum of reward is over 200\n",
    "    if reward > DONE_REWARD_LEVEL:\n",
    "        num_streaks += 1\n",
    "        solved_episode = episode_number\n",
    "    else:\n",
    "        num_streaks = 0\n",
    "        solved_episode = -1\n",
    "\n",
    "    # It's considered done when it's solved over 120 times consecutively\n",
    "    if num_streaks > STREAK_TO_END:\n",
    "        print(\"Task solved in %d episodes and repeated %d times.\" % \\\n",
    "                  (episode_number, num_streaks))\n",
    "        break\n"
   ]
  },
  {
   "cell_type": "markdown",
   "metadata": {},
   "source": [
    "## History overview"
   ]
  },
  {
   "cell_type": "code",
   "execution_count": 8,
   "metadata": {},
   "outputs": [
    {
     "data": {
      "text/plain": [
       "<matplotlib.axes._subplots.AxesSubplot at 0x1184e08d0>"
      ]
     },
     "execution_count": 8,
     "metadata": {},
     "output_type": "execute_result"
    },
    {
     "data": {
      "image/png": "[encoded data removed]",
      "text/plain": [
       "<matplotlib.figure.Figure at 0x1184e0128>"
      ]
     },
     "metadata": {},
     "output_type": "display_data"
    }
   ],
   "source": [
    "import pandas as pd\n",
    "\n",
    "pd.Series(agent.hist['loss']).rolling(100).mean().plot()"
   ]
  },
  {
   "cell_type": "code",
   "execution_count": 9,
   "metadata": {},
   "outputs": [
    {
     "data": {
      "text/plain": [
       "<matplotlib.axes._subplots.AxesSubplot at 0x11c858390>"
      ]
     },
     "execution_count": 9,
     "metadata": {},
     "output_type": "execute_result"
    },
    {
     "data": {
      "image/png": "[encoded data removed]",
      "text/plain": [
       "<matplotlib.figure.Figure at 0x111aabeb8>"
      ]
     },
     "metadata": {},
     "output_type": "display_data"
    }
   ],
   "source": [
    "pd.DataFrame(agent.hist['q_vals']).rolling(100).mean().plot()"
   ]
  },
  {
   "cell_type": "code",
   "execution_count": 10,
   "metadata": {},
   "outputs": [
    {
     "data": {
      "text/plain": [
       "<matplotlib.axes._subplots.AxesSubplot at 0x1165df198>"
      ]
     },
     "execution_count": 10,
     "metadata": {},
     "output_type": "execute_result"
    },
    {
     "data": {
      "image/png": "[encoded data removed]",
      "text/plain": [
       "<matplotlib.figure.Figure at 0x11957e6d8>"
      ]
     },
     "metadata": {},
     "output_type": "display_data"
    }
   ],
   "source": [
    "pd.Series(agent.hist['actions']).rolling(100).mean().plot()"
   ]
  },
  {
   "cell_type": "code",
   "execution_count": 11,
   "metadata": {},
   "outputs": [
    {
     "data": {
      "text/plain": [
       "<matplotlib.axes._subplots.AxesSubplot at 0x119a3acf8>"
      ]
     },
     "execution_count": 11,
     "metadata": {},
     "output_type": "execute_result"
    },
    {
     "data": {
      "image/png": "[encoded data removed]",
      "text/plain": [
       "<matplotlib.figure.Figure at 0x111aabfd0>"
      ]
     },
     "metadata": {},
     "output_type": "display_data"
    }
   ],
   "source": [
    "pd.Series(agent.hist['reward']).rolling(100).mean().plot()"
   ]
  }
 ],
 "metadata": {
  "anaconda-cloud": {},
  "kernelspec": {
   "display_name": "gym",
   "language": "python",
   "name": "gym"
  },
  "language_info": {
   "codemirror_mode": {
    "name": "ipython",
    "version": 3
   },
   "file_extension": ".py",
   "mimetype": "text/x-python",
   "name": "python",
   "nbconvert_exporter": "python",
   "pygments_lexer": "ipython3",
   "version": "3.6.3"
  }
 },
 "nbformat": 4,
 "nbformat_minor": 1
}
